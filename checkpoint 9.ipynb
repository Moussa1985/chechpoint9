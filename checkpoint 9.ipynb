{
 "cells": [
  {
   "cell_type": "code",
   "execution_count": 4,
   "metadata": {
    "scrolled": true
   },
   "outputs": [],
   "source": [
    "import numpy as np"
   ]
  },
  {
   "cell_type": "code",
   "execution_count": 5,
   "metadata": {},
   "outputs": [
    {
     "name": "stdout",
     "output_type": "stream",
     "text": [
      "[8, 30, 31, 34, 50, 53, 57, 65, 70, 76]\n",
      "N =  74\n",
      "[8, 30, 31, 34, 50, 53, 57, 65, 70, 76]\n",
      "[53, 57, 65, 70, 76]\n",
      "[65, 70, 76]\n",
      "[70, 76]\n",
      "[]\n"
     ]
    },
    {
     "data": {
      "text/plain": [
       "False"
      ]
     },
     "execution_count": 5,
     "metadata": {},
     "output_type": "execute_result"
    }
   ],
   "source": [
    "#Q1\n",
    "\n",
    "def binary_search(L, n):\n",
    "    print(L)\n",
    "    if len(L) > 0:\n",
    "        c = L[len(L)//2]\n",
    "        if c == n:\n",
    "            return True\n",
    "        elif n > c:\n",
    "            return binary_search(L[len(L)//2:], n)\n",
    "\n",
    "        return binary_search(L[:len(L)//2-1], n)\n",
    "    \n",
    "    return False\n",
    "\n",
    "L = np.random.randint(1, 100, size=(10,)).tolist()\n",
    "L = sorted(set(L))\n",
    "print(L)\n",
    "\n",
    "n = np.random.randint(1, 100)\n",
    "print('N = ', n)\n",
    "binary_search(L, n)"
   ]
  },
  {
   "cell_type": "code",
   "execution_count": null,
   "metadata": {},
   "outputs": [],
   "source": [
    "#Q2\n",
    "def puissance(a, b):\n",
    "    if b == 1:\n",
    "        return a\n",
    "    \n",
    "    return a * puissance(a, b-1)\n",
    "\n",
    "\n",
    "puissance(3, 5)"
   ]
  },
  {
   "cell_type": "code",
   "execution_count": 7,
   "metadata": {},
   "outputs": [
    {
     "name": "stdout",
     "output_type": "stream",
     "text": [
      "[96, 38, 71, 46, 15, 80, 18, 56, 28]\n"
     ]
    },
    {
     "data": {
      "text/plain": [
       "[15, 18, 28, 38, 46, 56, 71, 80, 96]"
      ]
     },
     "execution_count": 7,
     "metadata": {},
     "output_type": "execute_result"
    }
   ],
   "source": [
    "#Q3\n",
    "L = np.random.randint(1, 100, size=(10,)).tolist()\n",
    "L = list(set(L))\n",
    "print(L)\n",
    "\n",
    "for i in range(len(L)):\n",
    "    for j in range(i, len(L)):\n",
    "        if L[i] > L[j]:\n",
    "            L[i], L[j] = L[j], L[i]\n",
    "            \n",
    "            \n",
    "            \n",
    "L"
   ]
  },
  {
   "cell_type": "code",
   "execution_count": 18,
   "metadata": {},
   "outputs": [
    {
     "name": "stdout",
     "output_type": "stream",
     "text": [
      "[2, 70, 75, 12, 45, 76, 49, 93, 85, 61]\n"
     ]
    },
    {
     "data": {
      "text/plain": [
       "[2, 12, 45, 49, 61, 70, 75, 76, 85, 93]"
      ]
     },
     "execution_count": 18,
     "metadata": {},
     "output_type": "execute_result"
    }
   ],
   "source": [
    "#Q4\n",
    "L = np.random.randint(1, 100, size=(10,)).tolist()\n",
    "L = list(set(L))\n",
    "print(L)\n",
    "\n",
    "def mergeSort(L):\n",
    "    if len(L) == 1:\n",
    "        return L\n",
    "        \n",
    "    a1 = L[len(L)//2:]\n",
    "    a2 = L[:len(L)//2]\n",
    "    a1 = mergeSort(a1)\n",
    "    a2 = mergeSort(a2)\n",
    "    \n",
    "    M = []\n",
    "    i, j = 0, 0\n",
    "    while i<len(a1) and j<len(a2):\n",
    "        if a1[i] < a2[j]:\n",
    "            M.append(a1[i])\n",
    "            i = i + 1\n",
    "        else:\n",
    "            M.append(a2[j])\n",
    "            j = j + 1\n",
    "            \n",
    "    if i == len(a1):\n",
    "        M = M + a2[j:]\n",
    "    elif j == len(a2):\n",
    "        M = M + a1[i:]\n",
    "        \n",
    "    return M\n",
    "\n",
    "\n",
    "mergeSort(L)"
   ]
  },
  {
   "cell_type": "code",
   "execution_count": 3,
   "metadata": {},
   "outputs": [
    {
     "name": "stdout",
     "output_type": "stream",
     "text": [
      "[32, 96, 41, 73, 76, 51, 21, 86, 88]\n"
     ]
    }
   ],
   "source": [
    "#Q5\n",
    "L = np.random.randint(1, 100, size=(10,)).tolist()\n",
    "L = list(set(L))\n",
    "print(L)\n",
    "def partition(array, start, end):\n",
    "    pivot = array[start]\n",
    "    low = start + 1\n",
    "    high = end\n",
    "    while True:\n",
    "        \n",
    "        while low <= high and array[high] >= pivot:\n",
    "            high = high - 1\n",
    "\n",
    "        \n",
    "        while low <= high and array[low] <= pivot:\n",
    "            low = low + 1\n",
    "\n",
    "        \n",
    "        if low <= high:\n",
    "            array[low], array[high] = array[high], array[low]\n",
    "            \n",
    "        else:\n",
    "            \n",
    "            break\n",
    "\n",
    "    array[start], array[high] = array[high], array[start]\n",
    "\n",
    "    return high\n",
    "\n",
    "def quickSort(array, start, end):\n",
    "    if start >= end:\n",
    "        return array\n",
    "\n",
    "    p = partition(array, start, end)\n",
    "    return quickSort(array, start, p-1) + quickSort(array, p+1, end)\n",
    "\n"
   ]
  }
 ],
 "metadata": {
  "kernelspec": {
   "display_name": "Python 3",
   "language": "python",
   "name": "python3"
  },
  "language_info": {
   "codemirror_mode": {
    "name": "ipython",
    "version": 3
   },
   "file_extension": ".py",
   "mimetype": "text/x-python",
   "name": "python",
   "nbconvert_exporter": "python",
   "pygments_lexer": "ipython3",
   "version": "3.8.8"
  }
 },
 "nbformat": 4,
 "nbformat_minor": 2
}
